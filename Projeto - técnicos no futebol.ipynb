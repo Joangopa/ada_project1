{
 "cells": [
  {
   "cell_type": "markdown",
   "id": "1d4c4103",
   "metadata": {},
   "source": [
    "# Estatística no futebol\n",
    "\n",
    "### A duração de um técnico, no futebol, influencia na posição final do campeonato?\n",
    "\n"
   ]
  },
  {
   "cell_type": "markdown",
   "id": "5ed5251f",
   "metadata": {},
   "source": [
    "#### Descrição do problema\n",
    "\n",
    "Uma posição _volátil_, no futebol (tanto no Brasil quanto fora), é a posição de técnico. Uma prática comum é substituir o treinador após alguns resultados negativos. Naturalmente, um time que não troca o técnico não é garantia de sucesso no campeonato. Assim, surge a dúvida: será que, **em geral**, times com técnicos mais longevos ficam em uma posição melhor na tabela, no fim do campeonato?"
   ]
  },
  {
   "cell_type": "markdown",
   "id": "07917016",
   "metadata": {},
   "source": [
    "###### Ao final do processamento dos dados, queremos obter os seguintes gráficos com o objetivo de realizar uma análise gráfica para responder ao problema"
   ]
  },
  {
   "cell_type": "markdown",
   "id": "83164187",
   "metadata": {},
   "source": [
    "import matplotlib.pyplot as plt\n",
    "\n",
    "plt.figure(figsize=(8,6))\n",
    "plt.title('Campeonato Brasileiro 2019')\n",
    "\n",
    "plt.scatter(x,y)\n",
    "plt.xlabel('Posição')\n",
    "plt.ylabel('Técnico mais longevo (rodadas)')\n",
    "plt.xscale('linear')\n"
   ]
  },
  {
   "cell_type": "markdown",
   "id": "c732cacb",
   "metadata": {},
   "source": [
    "import matplotlib.pyplot as plt\n",
    "\n",
    "plt.figure(figsize=(8,6))\n",
    "plt.title('Campeonato Brasileiro 2019')\n",
    "\n",
    "plt.scatter(x,y_1)\n",
    "plt.xlabel('Posição')\n",
    "plt.ylabel('Número de técnicos durante o campeonato')\n",
    "plt.xscale('linear')\n"
   ]
  },
  {
   "cell_type": "markdown",
   "id": "4ae6475f",
   "metadata": {},
   "source": [
    "### Carregando dados"
   ]
  },
  {
   "cell_type": "code",
   "execution_count": 1,
   "id": "bcdb3b93",
   "metadata": {},
   "outputs": [],
   "source": [
    "\n",
    "import pandas as pd"
   ]
  },
  {
   "cell_type": "code",
   "execution_count": 2,
   "id": "63b1fca7",
   "metadata": {},
   "outputs": [],
   "source": [
    "dados = pd.read_json('brasileirao-2019.json')"
   ]
  },
  {
   "cell_type": "code",
   "execution_count": 3,
   "id": "d830317b",
   "metadata": {},
   "outputs": [
    {
     "data": {
      "text/html": [
       "<div>\n",
       "<style scoped>\n",
       "    .dataframe tbody tr th:only-of-type {\n",
       "        vertical-align: middle;\n",
       "    }\n",
       "\n",
       "    .dataframe tbody tr th {\n",
       "        vertical-align: top;\n",
       "    }\n",
       "\n",
       "    .dataframe thead th {\n",
       "        text-align: right;\n",
       "    }\n",
       "</style>\n",
       "<table border=\"1\" class=\"dataframe\">\n",
       "  <thead>\n",
       "    <tr style=\"text-align: right;\">\n",
       "      <th></th>\n",
       "      <th>1</th>\n",
       "      <th>2</th>\n",
       "      <th>3</th>\n",
       "      <th>4</th>\n",
       "      <th>5</th>\n",
       "      <th>6</th>\n",
       "      <th>7</th>\n",
       "      <th>8</th>\n",
       "      <th>9</th>\n",
       "      <th>10</th>\n",
       "      <th>...</th>\n",
       "      <th>29</th>\n",
       "      <th>30</th>\n",
       "      <th>31</th>\n",
       "      <th>32</th>\n",
       "      <th>34</th>\n",
       "      <th>33</th>\n",
       "      <th>35</th>\n",
       "      <th>36</th>\n",
       "      <th>37</th>\n",
       "      <th>38</th>\n",
       "    </tr>\n",
       "  </thead>\n",
       "  <tbody>\n",
       "    <tr>\n",
       "      <th>0</th>\n",
       "      <td>{'clubs': {'home': 'São Paulo', 'away': 'Botaf...</td>\n",
       "      <td>{'clubs': {'home': 'Internacional', 'away': 'F...</td>\n",
       "      <td>{'clubs': {'home': 'Vasco da Gama', 'away': 'C...</td>\n",
       "      <td>{'clubs': {'home': 'Fluminense', 'away': 'Bota...</td>\n",
       "      <td>{'clubs': {'home': 'Fluminense', 'away': 'Cruz...</td>\n",
       "      <td>{'clubs': {'home': 'Botafogo', 'away': 'Palmei...</td>\n",
       "      <td>{'clubs': {'home': 'Flamengo', 'away': 'Fortal...</td>\n",
       "      <td>{'clubs': {'home': 'Vasco da Gama', 'away': 'I...</td>\n",
       "      <td>{'clubs': {'home': 'Botafogo', 'away': 'Grêmio...</td>\n",
       "      <td>{'clubs': {'home': 'Grêmio', 'away': 'Vasco da...</td>\n",
       "      <td>...</td>\n",
       "      <td>{'clubs': {'home': 'Palmeiras', 'away': 'São P...</td>\n",
       "      <td>{'clubs': {'home': 'Fortaleza', 'away': 'Atlét...</td>\n",
       "      <td>{'clubs': {'home': 'Corinthians', 'away': 'For...</td>\n",
       "      <td>{'clubs': {'home': 'Goiás', 'away': 'Santos'},...</td>\n",
       "      <td>{'clubs': {'home': 'Flamengo', 'away': 'Vasco ...</td>\n",
       "      <td>{'clubs': {'home': 'Santos', 'away': 'São Paul...</td>\n",
       "      <td>{'clubs': {'home': 'Internacional', 'away': 'G...</td>\n",
       "      <td>{'clubs': {'home': 'Botafogo', 'away': 'Intern...</td>\n",
       "      <td>{'clubs': {'home': 'Athletico-PR', 'away': 'Sa...</td>\n",
       "      <td>{'clubs': {'home': 'Corinthians', 'away': 'Flu...</td>\n",
       "    </tr>\n",
       "    <tr>\n",
       "      <th>1</th>\n",
       "      <td>{'clubs': {'home': 'Atlético-MG', 'away': 'Ava...</td>\n",
       "      <td>{'clubs': {'home': 'CSA', 'away': 'Palmeiras'}...</td>\n",
       "      <td>{'clubs': {'home': 'Palmeiras', 'away': 'Inter...</td>\n",
       "      <td>{'clubs': {'home': 'Corinthians', 'away': 'Grê...</td>\n",
       "      <td>{'clubs': {'home': 'Palmeiras', 'away': 'Santo...</td>\n",
       "      <td>{'clubs': {'home': 'Grêmio', 'away': 'Atlético...</td>\n",
       "      <td>{'clubs': {'home': 'Bahia', 'away': 'Grêmio'},...</td>\n",
       "      <td>{'clubs': {'home': 'Palmeiras', 'away': 'Athle...</td>\n",
       "      <td>{'clubs': {'home': 'Fortaleza', 'away': 'Cruze...</td>\n",
       "      <td>{'clubs': {'home': 'Fortaleza', 'away': 'Avaí'...</td>\n",
       "      <td>...</td>\n",
       "      <td>{'clubs': {'home': 'Avaí', 'away': 'Fortaleza'...</td>\n",
       "      <td>{'clubs': {'home': 'Fluminense', 'away': 'Vasc...</td>\n",
       "      <td>{'clubs': {'home': 'Atlético-MG', 'away': 'Goi...</td>\n",
       "      <td>{'clubs': {'home': 'Palmeiras', 'away': 'Corin...</td>\n",
       "      <td>{'clubs': {'home': 'Santos', 'away': 'Cruzeiro...</td>\n",
       "      <td>{'clubs': {'home': 'Fluminense', 'away': 'Atlé...</td>\n",
       "      <td>{'clubs': {'home': 'Chapecoense', 'away': 'Bot...</td>\n",
       "      <td>{'clubs': {'home': 'Ceará SC', 'away': 'Athlet...</td>\n",
       "      <td>{'clubs': {'home': 'Ceará SC', 'away': 'Corint...</td>\n",
       "      <td>{'clubs': {'home': 'Santos', 'away': 'Flamengo...</td>\n",
       "    </tr>\n",
       "    <tr>\n",
       "      <th>2</th>\n",
       "      <td>{'clubs': {'home': 'Chapecoense', 'away': 'Int...</td>\n",
       "      <td>{'clubs': {'home': 'Corinthians', 'away': 'Cha...</td>\n",
       "      <td>{'clubs': {'home': 'Ceará SC', 'away': 'Atléti...</td>\n",
       "      <td>{'clubs': {'home': 'Goiás', 'away': 'Ceará SC'...</td>\n",
       "      <td>{'clubs': {'home': 'Atlético-MG', 'away': 'Fla...</td>\n",
       "      <td>{'clubs': {'home': 'Flamengo', 'away': 'Athlet...</td>\n",
       "      <td>{'clubs': {'home': 'Botafogo', 'away': 'Vasco ...</td>\n",
       "      <td>{'clubs': {'home': 'Grêmio', 'away': 'Fortalez...</td>\n",
       "      <td>{'clubs': {'home': 'Internacional', 'away': 'B...</td>\n",
       "      <td>{'clubs': {'home': 'Bahia', 'away': 'Santos'},...</td>\n",
       "      <td>...</td>\n",
       "      <td>{'clubs': {'home': 'Atlético-MG', 'away': 'Cha...</td>\n",
       "      <td>{'clubs': {'home': 'Palmeiras', 'away': 'Ceará...</td>\n",
       "      <td>{'clubs': {'home': 'Avaí', 'away': 'Santos'}, ...</td>\n",
       "      <td>{'clubs': {'home': 'Internacional', 'away': 'F...</td>\n",
       "      <td>{'clubs': {'home': 'Palmeiras', 'away': 'Grêmi...</td>\n",
       "      <td>{'clubs': {'home': 'Grêmio', 'away': 'Flamengo...</td>\n",
       "      <td>{'clubs': {'home': 'Bahia', 'away': 'Atlético-...</td>\n",
       "      <td>{'clubs': {'home': 'Avaí', 'away': 'Fluminense...</td>\n",
       "      <td>{'clubs': {'home': 'Atlético-MG', 'away': 'Bot...</td>\n",
       "      <td>{'clubs': {'home': 'Botafogo', 'away': 'Ceará ...</td>\n",
       "    </tr>\n",
       "    <tr>\n",
       "      <th>3</th>\n",
       "      <td>{'clubs': {'home': 'Flamengo', 'away': 'Cruzei...</td>\n",
       "      <td>{'clubs': {'home': 'Cruzeiro', 'away': 'Ceará ...</td>\n",
       "      <td>{'clubs': {'home': 'Chapecoense', 'away': 'Ath...</td>\n",
       "      <td>{'clubs': {'home': 'Flamengo', 'away': 'Chapec...</td>\n",
       "      <td>{'clubs': {'home': 'São Paulo', 'away': 'Bahia...</td>\n",
       "      <td>{'clubs': {'home': 'Santos', 'away': 'Internac...</td>\n",
       "      <td>{'clubs': {'home': 'Ceará SC', 'away': 'Santos...</td>\n",
       "      <td>{'clubs': {'home': 'Cruzeiro', 'away': 'Corint...</td>\n",
       "      <td>{'clubs': {'home': 'CSA', 'away': 'Flamengo'},...</td>\n",
       "      <td>{'clubs': {'home': 'São Paulo', 'away': 'Palme...</td>\n",
       "      <td>...</td>\n",
       "      <td>{'clubs': {'home': 'Ceará SC', 'away': 'Flumin...</td>\n",
       "      <td>{'clubs': {'home': 'Chapecoense', 'away': 'São...</td>\n",
       "      <td>{'clubs': {'home': 'Athletico-PR', 'away': 'Cr...</td>\n",
       "      <td>{'clubs': {'home': 'Cruzeiro', 'away': 'Atléti...</td>\n",
       "      <td>{'clubs': {'home': 'Atlético-MG', 'away': 'Ath...</td>\n",
       "      <td>{'clubs': {'home': 'Bahia', 'away': 'Palmeiras...</td>\n",
       "      <td>{'clubs': {'home': 'Athletico-PR', 'away': 'Gr...</td>\n",
       "      <td>{'clubs': {'home': 'Palmeiras', 'away': 'Flame...</td>\n",
       "      <td>{'clubs': {'home': 'Chapecoense', 'away': 'CSA...</td>\n",
       "      <td>{'clubs': {'home': 'CSA', 'away': 'São Paulo'}...</td>\n",
       "    </tr>\n",
       "    <tr>\n",
       "      <th>4</th>\n",
       "      <td>{'clubs': {'home': 'Grêmio', 'away': 'Santos'}...</td>\n",
       "      <td>{'clubs': {'home': 'Avaí', 'away': 'Grêmio'}, ...</td>\n",
       "      <td>{'clubs': {'home': 'São Paulo', 'away': 'Flame...</td>\n",
       "      <td>{'clubs': {'home': 'Santos', 'away': 'Vasco da...</td>\n",
       "      <td>{'clubs': {'home': 'Internacional', 'away': 'C...</td>\n",
       "      <td>{'clubs': {'home': 'Fortaleza', 'away': 'Vasco...</td>\n",
       "      <td>{'clubs': {'home': 'Athletico-PR', 'away': 'Fl...</td>\n",
       "      <td>{'clubs': {'home': 'Ceará SC', 'away': 'Bahia'...</td>\n",
       "      <td>{'clubs': {'home': 'Santos', 'away': 'Corinthi...</td>\n",
       "      <td>{'clubs': {'home': 'Flamengo', 'away': 'Goiás'...</td>\n",
       "      <td>...</td>\n",
       "      <td>{'clubs': {'home': 'Vasco da Gama', 'away': 'G...</td>\n",
       "      <td>{'clubs': {'home': 'Flamengo', 'away': 'Corint...</td>\n",
       "      <td>{'clubs': {'home': 'Vasco da Gama', 'away': 'P...</td>\n",
       "      <td>{'clubs': {'home': 'São Paulo', 'away': 'Athle...</td>\n",
       "      <td>{'clubs': {'home': 'Goiás', 'away': 'Bahia'}, ...</td>\n",
       "      <td>{'clubs': {'home': 'Chapecoense', 'away': 'Cea...</td>\n",
       "      <td>{'clubs': {'home': 'Flamengo', 'away': 'Ceará ...</td>\n",
       "      <td>{'clubs': {'home': 'Goiás', 'away': 'Fortaleza...</td>\n",
       "      <td>{'clubs': {'home': 'Fluminense', 'away': 'Fort...</td>\n",
       "      <td>{'clubs': {'home': 'Internacional', 'away': 'A...</td>\n",
       "    </tr>\n",
       "    <tr>\n",
       "      <th>5</th>\n",
       "      <td>{'clubs': {'home': 'Bahia', 'away': 'Corinthia...</td>\n",
       "      <td>{'clubs': {'home': 'Goiás', 'away': 'São Paulo...</td>\n",
       "      <td>{'clubs': {'home': 'Botafogo', 'away': 'Fortal...</td>\n",
       "      <td>{'clubs': {'home': 'Atlético-MG', 'away': 'Pal...</td>\n",
       "      <td>{'clubs': {'home': 'Athletico-PR', 'away': 'Co...</td>\n",
       "      <td>{'clubs': {'home': 'Cruzeiro', 'away': 'Chapec...</td>\n",
       "      <td>{'clubs': {'home': 'São Paulo', 'away': 'Cruze...</td>\n",
       "      <td>{'clubs': {'home': 'Avaí', 'away': 'São Paulo'...</td>\n",
       "      <td>{'clubs': {'home': 'Vasco da Gama', 'away': 'C...</td>\n",
       "      <td>{'clubs': {'home': 'Corinthians', 'away': 'CSA...</td>\n",
       "      <td>...</td>\n",
       "      <td>{'clubs': {'home': 'CSA', 'away': 'Corinthians...</td>\n",
       "      <td>{'clubs': {'home': 'Athletico-PR', 'away': 'CS...</td>\n",
       "      <td>{'clubs': {'home': 'Bahia', 'away': 'Chapecoen...</td>\n",
       "      <td>{'clubs': {'home': 'Flamengo', 'away': 'Bahia'...</td>\n",
       "      <td>{'clubs': {'home': 'Botafogo', 'away': 'Corint...</td>\n",
       "      <td>{'clubs': {'home': 'Athletico-PR', 'away': 'Bo...</td>\n",
       "      <td>{'clubs': {'home': 'Corinthians', 'away': 'Ava...</td>\n",
       "      <td>{'clubs': {'home': 'CSA', 'away': 'Bahia'}, 'g...</td>\n",
       "      <td>{'clubs': {'home': 'São Paulo', 'away': 'Inter...</td>\n",
       "      <td>{'clubs': {'home': 'Cruzeiro', 'away': 'Palmei...</td>\n",
       "    </tr>\n",
       "    <tr>\n",
       "      <th>6</th>\n",
       "      <td>{'clubs': {'home': 'Athletico-PR', 'away': 'Va...</td>\n",
       "      <td>{'clubs': {'home': 'Vasco da Gama', 'away': 'A...</td>\n",
       "      <td>{'clubs': {'home': 'CSA', 'away': 'Santos'}, '...</td>\n",
       "      <td>{'clubs': {'home': 'Internacional', 'away': 'C...</td>\n",
       "      <td>{'clubs': {'home': 'Goiás', 'away': 'Botafogo'...</td>\n",
       "      <td>{'clubs': {'home': 'Bahia', 'away': 'Fluminens...</td>\n",
       "      <td>{'clubs': {'home': 'Atlético-MG', 'away': 'CSA...</td>\n",
       "      <td>{'clubs': {'home': 'CSA', 'away': 'Botafogo'},...</td>\n",
       "      <td>{'clubs': {'home': 'Chapecoense', 'away': 'Flu...</td>\n",
       "      <td>{'clubs': {'home': 'Athletico-PR', 'away': 'In...</td>\n",
       "      <td>...</td>\n",
       "      <td>{'clubs': {'home': 'Santos', 'away': 'Bahia'},...</td>\n",
       "      <td>{'clubs': {'home': 'Grêmio', 'away': 'Internac...</td>\n",
       "      <td>{'clubs': {'home': 'Ceará SC', 'away': 'Intern...</td>\n",
       "      <td>{'clubs': {'home': 'Chapecoense', 'away': 'Grê...</td>\n",
       "      <td>{'clubs': {'home': 'Ceará SC', 'away': 'São Pa...</td>\n",
       "      <td>{'clubs': {'home': 'Corinthians', 'away': 'Int...</td>\n",
       "      <td>{'clubs': {'home': 'Fluminense', 'away': 'Palm...</td>\n",
       "      <td>{'clubs': {'home': 'Atlético-MG', 'away': 'Cor...</td>\n",
       "      <td>{'clubs': {'home': 'Grêmio', 'away': 'Cruzeiro...</td>\n",
       "      <td>{'clubs': {'home': 'Goiás', 'away': 'Grêmio'},...</td>\n",
       "    </tr>\n",
       "    <tr>\n",
       "      <th>7</th>\n",
       "      <td>{'clubs': {'home': 'Ceará SC', 'away': 'CSA'},...</td>\n",
       "      <td>{'clubs': {'home': 'Fortaleza', 'away': 'Athle...</td>\n",
       "      <td>{'clubs': {'home': 'Cruzeiro', 'away': 'Goiás'...</td>\n",
       "      <td>{'clubs': {'home': 'Avaí', 'away': 'CSA'}, 'go...</td>\n",
       "      <td>{'clubs': {'home': 'Chapecoense', 'away': 'For...</td>\n",
       "      <td>{'clubs': {'home': 'Corinthians', 'away': 'São...</td>\n",
       "      <td>{'clubs': {'home': 'Chapecoense', 'away': 'Pal...</td>\n",
       "      <td>{'clubs': {'home': 'Fluminense', 'away': 'Flam...</td>\n",
       "      <td>{'clubs': {'home': 'Palmeiras', 'away': 'Avaí'...</td>\n",
       "      <td>{'clubs': {'home': 'Cruzeiro', 'away': 'Botafo...</td>\n",
       "      <td>...</td>\n",
       "      <td>{'clubs': {'home': 'Goiás', 'away': 'Flamengo'...</td>\n",
       "      <td>{'clubs': {'home': 'Santos', 'away': 'Botafogo...</td>\n",
       "      <td>{'clubs': {'home': 'São Paulo', 'away': 'Flumi...</td>\n",
       "      <td>{'clubs': {'home': 'Fortaleza', 'away': 'Ceará...</td>\n",
       "      <td>{'clubs': {'home': 'Internacional', 'away': 'F...</td>\n",
       "      <td>{'clubs': {'home': 'Fortaleza', 'away': 'CSA'}...</td>\n",
       "      <td>{'clubs': {'home': 'Fortaleza', 'away': 'Santo...</td>\n",
       "      <td>{'clubs': {'home': 'Santos', 'away': 'Chapecoe...</td>\n",
       "      <td>{'clubs': {'home': 'Palmeiras', 'away': 'Goiás...</td>\n",
       "      <td>{'clubs': {'home': 'Vasco da Gama', 'away': 'C...</td>\n",
       "    </tr>\n",
       "    <tr>\n",
       "      <th>8</th>\n",
       "      <td>{'clubs': {'home': 'Palmeiras', 'away': 'Forta...</td>\n",
       "      <td>{'clubs': {'home': 'Santos', 'away': 'Fluminen...</td>\n",
       "      <td>{'clubs': {'home': 'Grêmio', 'away': 'Fluminen...</td>\n",
       "      <td>{'clubs': {'home': 'Athletico-PR', 'away': 'Ba...</td>\n",
       "      <td>{'clubs': {'home': 'Vasco da Gama', 'away': 'A...</td>\n",
       "      <td>{'clubs': {'home': 'CSA', 'away': 'Goiás'}, 'g...</td>\n",
       "      <td>{'clubs': {'home': 'Internacional', 'away': 'A...</td>\n",
       "      <td>{'clubs': {'home': 'Santos', 'away': 'Atlético...</td>\n",
       "      <td>{'clubs': {'home': 'Atlético-MG', 'away': 'São...</td>\n",
       "      <td>{'clubs': {'home': 'Chapecoense', 'away': 'Atl...</td>\n",
       "      <td>...</td>\n",
       "      <td>{'clubs': {'home': 'Internacional', 'away': 'A...</td>\n",
       "      <td>{'clubs': {'home': 'Cruzeiro', 'away': 'Bahia'...</td>\n",
       "      <td>{'clubs': {'home': 'Botafogo', 'away': 'Flamen...</td>\n",
       "      <td>{'clubs': {'home': 'CSA', 'away': 'Vasco da Ga...</td>\n",
       "      <td>{'clubs': {'home': 'Avaí', 'away': 'Chapecoens...</td>\n",
       "      <td>{'clubs': {'home': 'Vasco da Gama', 'away': 'G...</td>\n",
       "      <td>{'clubs': {'home': 'São Paulo', 'away': 'Vasco...</td>\n",
       "      <td>{'clubs': {'home': 'Grêmio', 'away': 'São Paul...</td>\n",
       "      <td>{'clubs': {'home': 'Bahia', 'away': 'Vasco da ...</td>\n",
       "      <td>{'clubs': {'home': 'Avaí', 'away': 'Athletico-...</td>\n",
       "    </tr>\n",
       "    <tr>\n",
       "      <th>9</th>\n",
       "      <td>{'clubs': {'home': 'Fluminense', 'away': 'Goiá...</td>\n",
       "      <td>{'clubs': {'home': 'Botafogo', 'away': 'Bahia'...</td>\n",
       "      <td>{'clubs': {'home': 'Bahia', 'away': 'Avaí'}, '...</td>\n",
       "      <td>{'clubs': {'home': 'Fortaleza', 'away': 'São P...</td>\n",
       "      <td>{'clubs': {'home': 'Ceará SC', 'away': 'Grêmio...</td>\n",
       "      <td>{'clubs': {'home': 'Avaí', 'away': 'Ceará SC'}...</td>\n",
       "      <td>{'clubs': {'home': 'Corinthians', 'away': 'Goi...</td>\n",
       "      <td>{'clubs': {'home': 'Goiás', 'away': 'Chapecoen...</td>\n",
       "      <td>{'clubs': {'home': 'Goiás', 'away': 'Athletico...</td>\n",
       "      <td>{'clubs': {'home': 'Fluminense', 'away': 'Cear...</td>\n",
       "      <td>...</td>\n",
       "      <td>{'clubs': {'home': 'Botafogo', 'away': 'Cruzei...</td>\n",
       "      <td>{'clubs': {'home': 'Goiás', 'away': 'Avaí'}, '...</td>\n",
       "      <td>{'clubs': {'home': 'Grêmio', 'away': 'CSA'}, '...</td>\n",
       "      <td>{'clubs': {'home': 'Botafogo', 'away': 'Avaí'}...</td>\n",
       "      <td>{'clubs': {'home': 'CSA', 'away': 'Fluminense'...</td>\n",
       "      <td>{'clubs': {'home': 'Cruzeiro', 'away': 'Avaí'}...</td>\n",
       "      <td>{'clubs': {'home': 'Cruzeiro', 'away': 'CSA'},...</td>\n",
       "      <td>{'clubs': {'home': 'Vasco da Gama', 'away': 'C...</td>\n",
       "      <td>{'clubs': {'home': 'Flamengo', 'away': 'Avaí'}...</td>\n",
       "      <td>{'clubs': {'home': 'Fortaleza', 'away': 'Bahia...</td>\n",
       "    </tr>\n",
       "  </tbody>\n",
       "</table>\n",
       "<p>10 rows × 38 columns</p>\n",
       "</div>"
      ],
      "text/plain": [
       "                                                  1   \\\n",
       "0  {'clubs': {'home': 'São Paulo', 'away': 'Botaf...   \n",
       "1  {'clubs': {'home': 'Atlético-MG', 'away': 'Ava...   \n",
       "2  {'clubs': {'home': 'Chapecoense', 'away': 'Int...   \n",
       "3  {'clubs': {'home': 'Flamengo', 'away': 'Cruzei...   \n",
       "4  {'clubs': {'home': 'Grêmio', 'away': 'Santos'}...   \n",
       "5  {'clubs': {'home': 'Bahia', 'away': 'Corinthia...   \n",
       "6  {'clubs': {'home': 'Athletico-PR', 'away': 'Va...   \n",
       "7  {'clubs': {'home': 'Ceará SC', 'away': 'CSA'},...   \n",
       "8  {'clubs': {'home': 'Palmeiras', 'away': 'Forta...   \n",
       "9  {'clubs': {'home': 'Fluminense', 'away': 'Goiá...   \n",
       "\n",
       "                                                  2   \\\n",
       "0  {'clubs': {'home': 'Internacional', 'away': 'F...   \n",
       "1  {'clubs': {'home': 'CSA', 'away': 'Palmeiras'}...   \n",
       "2  {'clubs': {'home': 'Corinthians', 'away': 'Cha...   \n",
       "3  {'clubs': {'home': 'Cruzeiro', 'away': 'Ceará ...   \n",
       "4  {'clubs': {'home': 'Avaí', 'away': 'Grêmio'}, ...   \n",
       "5  {'clubs': {'home': 'Goiás', 'away': 'São Paulo...   \n",
       "6  {'clubs': {'home': 'Vasco da Gama', 'away': 'A...   \n",
       "7  {'clubs': {'home': 'Fortaleza', 'away': 'Athle...   \n",
       "8  {'clubs': {'home': 'Santos', 'away': 'Fluminen...   \n",
       "9  {'clubs': {'home': 'Botafogo', 'away': 'Bahia'...   \n",
       "\n",
       "                                                  3   \\\n",
       "0  {'clubs': {'home': 'Vasco da Gama', 'away': 'C...   \n",
       "1  {'clubs': {'home': 'Palmeiras', 'away': 'Inter...   \n",
       "2  {'clubs': {'home': 'Ceará SC', 'away': 'Atléti...   \n",
       "3  {'clubs': {'home': 'Chapecoense', 'away': 'Ath...   \n",
       "4  {'clubs': {'home': 'São Paulo', 'away': 'Flame...   \n",
       "5  {'clubs': {'home': 'Botafogo', 'away': 'Fortal...   \n",
       "6  {'clubs': {'home': 'CSA', 'away': 'Santos'}, '...   \n",
       "7  {'clubs': {'home': 'Cruzeiro', 'away': 'Goiás'...   \n",
       "8  {'clubs': {'home': 'Grêmio', 'away': 'Fluminen...   \n",
       "9  {'clubs': {'home': 'Bahia', 'away': 'Avaí'}, '...   \n",
       "\n",
       "                                                  4   \\\n",
       "0  {'clubs': {'home': 'Fluminense', 'away': 'Bota...   \n",
       "1  {'clubs': {'home': 'Corinthians', 'away': 'Grê...   \n",
       "2  {'clubs': {'home': 'Goiás', 'away': 'Ceará SC'...   \n",
       "3  {'clubs': {'home': 'Flamengo', 'away': 'Chapec...   \n",
       "4  {'clubs': {'home': 'Santos', 'away': 'Vasco da...   \n",
       "5  {'clubs': {'home': 'Atlético-MG', 'away': 'Pal...   \n",
       "6  {'clubs': {'home': 'Internacional', 'away': 'C...   \n",
       "7  {'clubs': {'home': 'Avaí', 'away': 'CSA'}, 'go...   \n",
       "8  {'clubs': {'home': 'Athletico-PR', 'away': 'Ba...   \n",
       "9  {'clubs': {'home': 'Fortaleza', 'away': 'São P...   \n",
       "\n",
       "                                                  5   \\\n",
       "0  {'clubs': {'home': 'Fluminense', 'away': 'Cruz...   \n",
       "1  {'clubs': {'home': 'Palmeiras', 'away': 'Santo...   \n",
       "2  {'clubs': {'home': 'Atlético-MG', 'away': 'Fla...   \n",
       "3  {'clubs': {'home': 'São Paulo', 'away': 'Bahia...   \n",
       "4  {'clubs': {'home': 'Internacional', 'away': 'C...   \n",
       "5  {'clubs': {'home': 'Athletico-PR', 'away': 'Co...   \n",
       "6  {'clubs': {'home': 'Goiás', 'away': 'Botafogo'...   \n",
       "7  {'clubs': {'home': 'Chapecoense', 'away': 'For...   \n",
       "8  {'clubs': {'home': 'Vasco da Gama', 'away': 'A...   \n",
       "9  {'clubs': {'home': 'Ceará SC', 'away': 'Grêmio...   \n",
       "\n",
       "                                                  6   \\\n",
       "0  {'clubs': {'home': 'Botafogo', 'away': 'Palmei...   \n",
       "1  {'clubs': {'home': 'Grêmio', 'away': 'Atlético...   \n",
       "2  {'clubs': {'home': 'Flamengo', 'away': 'Athlet...   \n",
       "3  {'clubs': {'home': 'Santos', 'away': 'Internac...   \n",
       "4  {'clubs': {'home': 'Fortaleza', 'away': 'Vasco...   \n",
       "5  {'clubs': {'home': 'Cruzeiro', 'away': 'Chapec...   \n",
       "6  {'clubs': {'home': 'Bahia', 'away': 'Fluminens...   \n",
       "7  {'clubs': {'home': 'Corinthians', 'away': 'São...   \n",
       "8  {'clubs': {'home': 'CSA', 'away': 'Goiás'}, 'g...   \n",
       "9  {'clubs': {'home': 'Avaí', 'away': 'Ceará SC'}...   \n",
       "\n",
       "                                                  7   \\\n",
       "0  {'clubs': {'home': 'Flamengo', 'away': 'Fortal...   \n",
       "1  {'clubs': {'home': 'Bahia', 'away': 'Grêmio'},...   \n",
       "2  {'clubs': {'home': 'Botafogo', 'away': 'Vasco ...   \n",
       "3  {'clubs': {'home': 'Ceará SC', 'away': 'Santos...   \n",
       "4  {'clubs': {'home': 'Athletico-PR', 'away': 'Fl...   \n",
       "5  {'clubs': {'home': 'São Paulo', 'away': 'Cruze...   \n",
       "6  {'clubs': {'home': 'Atlético-MG', 'away': 'CSA...   \n",
       "7  {'clubs': {'home': 'Chapecoense', 'away': 'Pal...   \n",
       "8  {'clubs': {'home': 'Internacional', 'away': 'A...   \n",
       "9  {'clubs': {'home': 'Corinthians', 'away': 'Goi...   \n",
       "\n",
       "                                                  8   \\\n",
       "0  {'clubs': {'home': 'Vasco da Gama', 'away': 'I...   \n",
       "1  {'clubs': {'home': 'Palmeiras', 'away': 'Athle...   \n",
       "2  {'clubs': {'home': 'Grêmio', 'away': 'Fortalez...   \n",
       "3  {'clubs': {'home': 'Cruzeiro', 'away': 'Corint...   \n",
       "4  {'clubs': {'home': 'Ceará SC', 'away': 'Bahia'...   \n",
       "5  {'clubs': {'home': 'Avaí', 'away': 'São Paulo'...   \n",
       "6  {'clubs': {'home': 'CSA', 'away': 'Botafogo'},...   \n",
       "7  {'clubs': {'home': 'Fluminense', 'away': 'Flam...   \n",
       "8  {'clubs': {'home': 'Santos', 'away': 'Atlético...   \n",
       "9  {'clubs': {'home': 'Goiás', 'away': 'Chapecoen...   \n",
       "\n",
       "                                                  9   \\\n",
       "0  {'clubs': {'home': 'Botafogo', 'away': 'Grêmio...   \n",
       "1  {'clubs': {'home': 'Fortaleza', 'away': 'Cruze...   \n",
       "2  {'clubs': {'home': 'Internacional', 'away': 'B...   \n",
       "3  {'clubs': {'home': 'CSA', 'away': 'Flamengo'},...   \n",
       "4  {'clubs': {'home': 'Santos', 'away': 'Corinthi...   \n",
       "5  {'clubs': {'home': 'Vasco da Gama', 'away': 'C...   \n",
       "6  {'clubs': {'home': 'Chapecoense', 'away': 'Flu...   \n",
       "7  {'clubs': {'home': 'Palmeiras', 'away': 'Avaí'...   \n",
       "8  {'clubs': {'home': 'Atlético-MG', 'away': 'São...   \n",
       "9  {'clubs': {'home': 'Goiás', 'away': 'Athletico...   \n",
       "\n",
       "                                                  10  ...  \\\n",
       "0  {'clubs': {'home': 'Grêmio', 'away': 'Vasco da...  ...   \n",
       "1  {'clubs': {'home': 'Fortaleza', 'away': 'Avaí'...  ...   \n",
       "2  {'clubs': {'home': 'Bahia', 'away': 'Santos'},...  ...   \n",
       "3  {'clubs': {'home': 'São Paulo', 'away': 'Palme...  ...   \n",
       "4  {'clubs': {'home': 'Flamengo', 'away': 'Goiás'...  ...   \n",
       "5  {'clubs': {'home': 'Corinthians', 'away': 'CSA...  ...   \n",
       "6  {'clubs': {'home': 'Athletico-PR', 'away': 'In...  ...   \n",
       "7  {'clubs': {'home': 'Cruzeiro', 'away': 'Botafo...  ...   \n",
       "8  {'clubs': {'home': 'Chapecoense', 'away': 'Atl...  ...   \n",
       "9  {'clubs': {'home': 'Fluminense', 'away': 'Cear...  ...   \n",
       "\n",
       "                                                  29  \\\n",
       "0  {'clubs': {'home': 'Palmeiras', 'away': 'São P...   \n",
       "1  {'clubs': {'home': 'Avaí', 'away': 'Fortaleza'...   \n",
       "2  {'clubs': {'home': 'Atlético-MG', 'away': 'Cha...   \n",
       "3  {'clubs': {'home': 'Ceará SC', 'away': 'Flumin...   \n",
       "4  {'clubs': {'home': 'Vasco da Gama', 'away': 'G...   \n",
       "5  {'clubs': {'home': 'CSA', 'away': 'Corinthians...   \n",
       "6  {'clubs': {'home': 'Santos', 'away': 'Bahia'},...   \n",
       "7  {'clubs': {'home': 'Goiás', 'away': 'Flamengo'...   \n",
       "8  {'clubs': {'home': 'Internacional', 'away': 'A...   \n",
       "9  {'clubs': {'home': 'Botafogo', 'away': 'Cruzei...   \n",
       "\n",
       "                                                  30  \\\n",
       "0  {'clubs': {'home': 'Fortaleza', 'away': 'Atlét...   \n",
       "1  {'clubs': {'home': 'Fluminense', 'away': 'Vasc...   \n",
       "2  {'clubs': {'home': 'Palmeiras', 'away': 'Ceará...   \n",
       "3  {'clubs': {'home': 'Chapecoense', 'away': 'São...   \n",
       "4  {'clubs': {'home': 'Flamengo', 'away': 'Corint...   \n",
       "5  {'clubs': {'home': 'Athletico-PR', 'away': 'CS...   \n",
       "6  {'clubs': {'home': 'Grêmio', 'away': 'Internac...   \n",
       "7  {'clubs': {'home': 'Santos', 'away': 'Botafogo...   \n",
       "8  {'clubs': {'home': 'Cruzeiro', 'away': 'Bahia'...   \n",
       "9  {'clubs': {'home': 'Goiás', 'away': 'Avaí'}, '...   \n",
       "\n",
       "                                                  31  \\\n",
       "0  {'clubs': {'home': 'Corinthians', 'away': 'For...   \n",
       "1  {'clubs': {'home': 'Atlético-MG', 'away': 'Goi...   \n",
       "2  {'clubs': {'home': 'Avaí', 'away': 'Santos'}, ...   \n",
       "3  {'clubs': {'home': 'Athletico-PR', 'away': 'Cr...   \n",
       "4  {'clubs': {'home': 'Vasco da Gama', 'away': 'P...   \n",
       "5  {'clubs': {'home': 'Bahia', 'away': 'Chapecoen...   \n",
       "6  {'clubs': {'home': 'Ceará SC', 'away': 'Intern...   \n",
       "7  {'clubs': {'home': 'São Paulo', 'away': 'Flumi...   \n",
       "8  {'clubs': {'home': 'Botafogo', 'away': 'Flamen...   \n",
       "9  {'clubs': {'home': 'Grêmio', 'away': 'CSA'}, '...   \n",
       "\n",
       "                                                  32  \\\n",
       "0  {'clubs': {'home': 'Goiás', 'away': 'Santos'},...   \n",
       "1  {'clubs': {'home': 'Palmeiras', 'away': 'Corin...   \n",
       "2  {'clubs': {'home': 'Internacional', 'away': 'F...   \n",
       "3  {'clubs': {'home': 'Cruzeiro', 'away': 'Atléti...   \n",
       "4  {'clubs': {'home': 'São Paulo', 'away': 'Athle...   \n",
       "5  {'clubs': {'home': 'Flamengo', 'away': 'Bahia'...   \n",
       "6  {'clubs': {'home': 'Chapecoense', 'away': 'Grê...   \n",
       "7  {'clubs': {'home': 'Fortaleza', 'away': 'Ceará...   \n",
       "8  {'clubs': {'home': 'CSA', 'away': 'Vasco da Ga...   \n",
       "9  {'clubs': {'home': 'Botafogo', 'away': 'Avaí'}...   \n",
       "\n",
       "                                                  34  \\\n",
       "0  {'clubs': {'home': 'Flamengo', 'away': 'Vasco ...   \n",
       "1  {'clubs': {'home': 'Santos', 'away': 'Cruzeiro...   \n",
       "2  {'clubs': {'home': 'Palmeiras', 'away': 'Grêmi...   \n",
       "3  {'clubs': {'home': 'Atlético-MG', 'away': 'Ath...   \n",
       "4  {'clubs': {'home': 'Goiás', 'away': 'Bahia'}, ...   \n",
       "5  {'clubs': {'home': 'Botafogo', 'away': 'Corint...   \n",
       "6  {'clubs': {'home': 'Ceará SC', 'away': 'São Pa...   \n",
       "7  {'clubs': {'home': 'Internacional', 'away': 'F...   \n",
       "8  {'clubs': {'home': 'Avaí', 'away': 'Chapecoens...   \n",
       "9  {'clubs': {'home': 'CSA', 'away': 'Fluminense'...   \n",
       "\n",
       "                                                  33  \\\n",
       "0  {'clubs': {'home': 'Santos', 'away': 'São Paul...   \n",
       "1  {'clubs': {'home': 'Fluminense', 'away': 'Atlé...   \n",
       "2  {'clubs': {'home': 'Grêmio', 'away': 'Flamengo...   \n",
       "3  {'clubs': {'home': 'Bahia', 'away': 'Palmeiras...   \n",
       "4  {'clubs': {'home': 'Chapecoense', 'away': 'Cea...   \n",
       "5  {'clubs': {'home': 'Athletico-PR', 'away': 'Bo...   \n",
       "6  {'clubs': {'home': 'Corinthians', 'away': 'Int...   \n",
       "7  {'clubs': {'home': 'Fortaleza', 'away': 'CSA'}...   \n",
       "8  {'clubs': {'home': 'Vasco da Gama', 'away': 'G...   \n",
       "9  {'clubs': {'home': 'Cruzeiro', 'away': 'Avaí'}...   \n",
       "\n",
       "                                                  35  \\\n",
       "0  {'clubs': {'home': 'Internacional', 'away': 'G...   \n",
       "1  {'clubs': {'home': 'Chapecoense', 'away': 'Bot...   \n",
       "2  {'clubs': {'home': 'Bahia', 'away': 'Atlético-...   \n",
       "3  {'clubs': {'home': 'Athletico-PR', 'away': 'Gr...   \n",
       "4  {'clubs': {'home': 'Flamengo', 'away': 'Ceará ...   \n",
       "5  {'clubs': {'home': 'Corinthians', 'away': 'Ava...   \n",
       "6  {'clubs': {'home': 'Fluminense', 'away': 'Palm...   \n",
       "7  {'clubs': {'home': 'Fortaleza', 'away': 'Santo...   \n",
       "8  {'clubs': {'home': 'São Paulo', 'away': 'Vasco...   \n",
       "9  {'clubs': {'home': 'Cruzeiro', 'away': 'CSA'},...   \n",
       "\n",
       "                                                  36  \\\n",
       "0  {'clubs': {'home': 'Botafogo', 'away': 'Intern...   \n",
       "1  {'clubs': {'home': 'Ceará SC', 'away': 'Athlet...   \n",
       "2  {'clubs': {'home': 'Avaí', 'away': 'Fluminense...   \n",
       "3  {'clubs': {'home': 'Palmeiras', 'away': 'Flame...   \n",
       "4  {'clubs': {'home': 'Goiás', 'away': 'Fortaleza...   \n",
       "5  {'clubs': {'home': 'CSA', 'away': 'Bahia'}, 'g...   \n",
       "6  {'clubs': {'home': 'Atlético-MG', 'away': 'Cor...   \n",
       "7  {'clubs': {'home': 'Santos', 'away': 'Chapecoe...   \n",
       "8  {'clubs': {'home': 'Grêmio', 'away': 'São Paul...   \n",
       "9  {'clubs': {'home': 'Vasco da Gama', 'away': 'C...   \n",
       "\n",
       "                                                  37  \\\n",
       "0  {'clubs': {'home': 'Athletico-PR', 'away': 'Sa...   \n",
       "1  {'clubs': {'home': 'Ceará SC', 'away': 'Corint...   \n",
       "2  {'clubs': {'home': 'Atlético-MG', 'away': 'Bot...   \n",
       "3  {'clubs': {'home': 'Chapecoense', 'away': 'CSA...   \n",
       "4  {'clubs': {'home': 'Fluminense', 'away': 'Fort...   \n",
       "5  {'clubs': {'home': 'São Paulo', 'away': 'Inter...   \n",
       "6  {'clubs': {'home': 'Grêmio', 'away': 'Cruzeiro...   \n",
       "7  {'clubs': {'home': 'Palmeiras', 'away': 'Goiás...   \n",
       "8  {'clubs': {'home': 'Bahia', 'away': 'Vasco da ...   \n",
       "9  {'clubs': {'home': 'Flamengo', 'away': 'Avaí'}...   \n",
       "\n",
       "                                                  38  \n",
       "0  {'clubs': {'home': 'Corinthians', 'away': 'Flu...  \n",
       "1  {'clubs': {'home': 'Santos', 'away': 'Flamengo...  \n",
       "2  {'clubs': {'home': 'Botafogo', 'away': 'Ceará ...  \n",
       "3  {'clubs': {'home': 'CSA', 'away': 'São Paulo'}...  \n",
       "4  {'clubs': {'home': 'Internacional', 'away': 'A...  \n",
       "5  {'clubs': {'home': 'Cruzeiro', 'away': 'Palmei...  \n",
       "6  {'clubs': {'home': 'Goiás', 'away': 'Grêmio'},...  \n",
       "7  {'clubs': {'home': 'Vasco da Gama', 'away': 'C...  \n",
       "8  {'clubs': {'home': 'Avaí', 'away': 'Athletico-...  \n",
       "9  {'clubs': {'home': 'Fortaleza', 'away': 'Bahia...  \n",
       "\n",
       "[10 rows x 38 columns]"
      ]
     },
     "execution_count": 3,
     "metadata": {},
     "output_type": "execute_result"
    }
   ],
   "source": [
    "dados"
   ]
  },
  {
   "cell_type": "markdown",
   "id": "067d0af6",
   "metadata": {},
   "source": [
    "# Nas linhas a seguir realizamos uma análise exploratória dos dados"
   ]
  },
  {
   "cell_type": "code",
   "execution_count": 4,
   "id": "1cd2926d",
   "metadata": {},
   "outputs": [
    {
     "data": {
      "text/plain": [
       "{'clubs': {'home': 'São Paulo', 'away': 'Botafogo'},\n",
       " 'goals': {'home': '2', 'away': '0'},\n",
       " 'cards': {'home': {'yellow': [], 'red': []},\n",
       "  'away': {'yellow': [{'time': \"90+4'\",\n",
       "     'player': 'Joel Carli',\n",
       "     'position': 'Zagueiro',\n",
       "     'number': '3'},\n",
       "    {'time': \"23'\",\n",
       "     'player': 'Rodrigo Pimpão',\n",
       "     'position': 'Meio-campo',\n",
       "     'number': '9'},\n",
       "    {'time': \"13'\",\n",
       "     'player': 'João Paulo',\n",
       "     'position': 'Meio-campo',\n",
       "     'number': '10'},\n",
       "    {'time': \"9'\",\n",
       "     'player': 'Jonathan Silva Vieira',\n",
       "     'position': 'Zagueiro',\n",
       "     'number': '6'}],\n",
       "   'red': []}},\n",
       " 'hour': '16:02',\n",
       " 'date': '27/04/19',\n",
       " 'coach': {'home': 'A. Stival', 'away': 'E. de Souza Barroca'},\n",
       " 'formation': {'home': '4-2-3-1', 'away': '4-1-4-1'},\n",
       " 'goalsPlayer': {'home': [{'player': 'Éverton Cardoso da Silva',\n",
       "    'gols': [\"41'\"]},\n",
       "   {'player': 'Hudson', 'gols': [\"83'\"]}],\n",
       "  'away': []},\n",
       " 'stadium': 'Morumbi',\n",
       " 'stats': [{'home': '7', 'stat': 'Chutes', 'away': '11'},\n",
       "  {'home': '4', 'stat': 'Chutes a gol', 'away': '2'},\n",
       "  {'home': '28%', 'stat': 'Posse de bola', 'away': '72%'},\n",
       "  {'home': '269', 'stat': 'Passes', 'away': '702'},\n",
       "  {'home': '75%', 'stat': 'Precisão de passe', 'away': '89%'},\n",
       "  {'home': '23', 'stat': 'Faltas', 'away': '7'},\n",
       "  {'home': '0', 'stat': 'Cartões amarelos', 'away': '4'},\n",
       "  {'home': '0', 'stat': 'Cartões vermelhos', 'away': '0'},\n",
       "  {'home': '2', 'stat': 'Impedimentos', 'away': '1'},\n",
       "  {'home': '3', 'stat': 'Escanteios', 'away': '2'}]}"
      ]
     },
     "execution_count": 4,
     "metadata": {},
     "output_type": "execute_result"
    }
   ],
   "source": [
    "\n",
    "dados[1][0]"
   ]
  },
  {
   "cell_type": "code",
   "execution_count": 5,
   "id": "851005e8",
   "metadata": {
    "scrolled": true
   },
   "outputs": [
    {
     "data": {
      "text/plain": [
       "({'home': 'São Paulo', 'away': 'Botafogo'},\n",
       " {'home': '2', 'away': '0'},\n",
       " {'home': 'A. Stival', 'away': 'E. de Souza Barroca'})"
      ]
     },
     "execution_count": 5,
     "metadata": {},
     "output_type": "execute_result"
    }
   ],
   "source": [
    "#dados['Rodada']['Jogo']['Técnicos']\n",
    "dados[1][0]['clubs'], dados[1][0]['goals'], dados[1][0]['coach']"
   ]
  },
  {
   "cell_type": "code",
   "execution_count": 6,
   "id": "97610010",
   "metadata": {},
   "outputs": [
    {
     "name": "stdout",
     "output_type": "stream",
     "text": [
      "{'home': 'Grêmio', 'away': 'Santos'} {'home': '1', 'away': '2'} {'home': 'Renato Gaúcho', 'away': 'J. Sampaoli Moya'}\n",
      "{'home': 'Santos', 'away': 'Fluminense'} {'home': '2', 'away': '1'} {'home': 'J. Sampaoli Moya', 'away': 'F. Diniz Silva'}\n",
      "{'home': 'CSA', 'away': 'Santos'} {'home': '0', 'away': '0'} {'home': 'M. Ribeiro Cabo', 'away': 'J. Sampaoli Moya'}\n",
      "{'home': 'Santos', 'away': 'Vasco da Gama'} {'home': '3', 'away': '0'} {'home': 'J. Sampaoli Moya', 'away': 'M. Gomes Valadares'}\n",
      "{'home': 'Palmeiras', 'away': 'Santos'} {'home': '4', 'away': '0'} {'home': 'L. Scolari', 'away': 'J. Sampaoli Moya'}\n",
      "{'home': 'Santos', 'away': 'Internacional'} {'home': '0', 'away': '0'} {'home': 'J. Sampaoli Moya', 'away': 'O. Hellmann'}\n",
      "{'home': 'Ceará SC', 'away': 'Santos'} {'home': '0', 'away': '1'} {'home': 'E. Alves Moreira', 'away': 'J. Sampaoli Moya'}\n",
      "{'home': 'Santos', 'away': 'Atlético-MG'} {'home': '3', 'away': '1'} {'home': 'J. Sampaoli Moya', 'away': 'R. Marques Santana'}\n",
      "{'home': 'Santos', 'away': 'Corinthians'} {'home': '1', 'away': '0'} {'home': 'J. Sampaoli Moya', 'away': 'F. Carille'}\n",
      "{'home': 'Bahia', 'away': 'Santos'} {'home': '0', 'away': '1'} {'home': 'R. Machado Marques', 'away': 'J. Sampaoli Moya'}\n",
      "{'home': 'Botafogo', 'away': 'Santos'} {'home': '0', 'away': '1'} {'home': 'E. de Souza Barroca', 'away': 'J. Sampaoli Moya'}\n",
      "{'home': 'Santos', 'away': 'Avaí'} {'home': '3', 'away': '1'} {'home': 'J. Sampaoli Moya', 'away': 'A. Valentim do Carmo Neto'}\n",
      "{'home': 'Santos', 'away': 'Goiás'} {'home': '6', 'away': '1'} {'home': 'J. Sampaoli Moya', 'away': 'C. dos Santos Oliveira'}\n",
      "{'home': 'São Paulo', 'away': 'Santos'} {'home': '3', 'away': '2'} {'home': 'A. Stival', 'away': 'J. Sampaoli Moya'}\n",
      "{'home': 'Cruzeiro', 'away': 'Santos'} {'home': '2', 'away': '0'} {'home': 'R. Ceni', 'away': 'J. Sampaoli Moya'}\n",
      "{'home': 'Santos', 'away': 'Fortaleza'} {'home': '3', 'away': '3'} {'home': 'J. Sampaoli Moya', 'away': 'J. Mannarino'}\n",
      "{'home': 'Chapecoense', 'away': 'Santos'} {'home': '0', 'away': '1'} {'home': 'E. Hartkopp', 'away': 'J. Sampaoli Moya'}\n",
      "{'home': 'Santos', 'away': 'Athletico-PR'} {'home': '1', 'away': '1'} {'home': 'J. Sampaoli Moya', 'away': 'T. Retzalff Nunes'}\n",
      "{'home': 'Flamengo', 'away': 'Santos'} {'home': '1', 'away': '0'} {'home': 'J. Pinheiro de Jesus', 'away': 'J. Sampaoli Moya'}\n",
      "{'home': 'Santos', 'away': 'Grêmio'} {'home': '0', 'away': '3'} {'home': 'J. Sampaoli Moya', 'away': 'Renato Gaúcho'}\n",
      "{'home': 'Fluminense', 'away': 'Santos'} {'home': '1', 'away': '1'} {'home': 'O. de Oliveira Filho', 'away': 'J. Sampaoli Moya'}\n",
      "{'home': 'Santos', 'away': 'CSA'} {'home': '2', 'away': '0'} {'home': 'J. Sampaoli Moya', 'away': 'A. Fucks'}\n",
      "{'home': 'Vasco da Gama', 'away': 'Santos'} {'home': '0', 'away': '1'} {'home': 'V. Luxemburgo da Silva', 'away': 'J. Sampaoli Moya'}\n",
      "{'home': 'Santos', 'away': 'Palmeiras'} {'home': '2', 'away': '0'} {'home': 'J. Sampaoli Moya', 'away': 'L. Venker de Menezes'}\n",
      "{'home': 'Internacional', 'away': 'Santos'} {'home': '0', 'away': '0'} {'home': 'R. Colbachini', 'away': 'J. Sampaoli Moya'}\n",
      "{'home': 'Santos', 'away': 'Ceará SC'} {'home': '2', 'away': '1'} {'home': 'J. Sampaoli Moya', 'away': 'A. Batista'}\n",
      "{'home': 'Atlético-MG', 'away': 'Santos'} {'home': '2', 'away': '0'} {'home': 'V. Carmo Mancini', 'away': 'J. Sampaoli Moya'}\n",
      "{'home': 'Corinthians', 'away': 'Santos'} {'home': '0', 'away': '0'} {'home': 'F. Carille', 'away': 'J. Sampaoli Moya'}\n",
      "{'home': 'Santos', 'away': 'Bahia'} {'home': '1', 'away': '0'} {'home': 'J. Sampaoli Moya', 'away': 'R. Machado Marques'}\n",
      "{'home': 'Santos', 'away': 'Botafogo'} {'home': '4', 'away': '1'} {'home': 'J. Sampaoli Moya', 'away': 'A. Valentim do Carmo Neto'}\n",
      "{'home': 'Avaí', 'away': 'Santos'} {'home': '1', 'away': '2'} {'home': 'E. Spinassé Camillato', 'away': 'J. Sampaoli Moya'}\n",
      "{'home': 'Goiás', 'away': 'Santos'} {'home': '0', 'away': '3'} {'home': 'N. da Silveira Júnior', 'away': 'J. Sampaoli Moya'}\n",
      "{'home': 'Santos', 'away': 'São Paulo'} {'home': '1', 'away': '1'} {'home': 'J. Sampaoli Moya', 'away': 'F. Diniz Silva'}\n",
      "{'home': 'Santos', 'away': 'Cruzeiro'} {'home': '4', 'away': '1'} {'home': 'J. Sampaoli Moya', 'away': 'A. da Silva Braga'}\n",
      "{'home': 'Fortaleza', 'away': 'Santos'} {'home': '2', 'away': '1'} {'home': 'R. Ceni', 'away': 'J. Sampaoli Moya'}\n",
      "{'home': 'Santos', 'away': 'Chapecoense'} {'home': '2', 'away': '0'} {'home': 'J. Sampaoli Moya', 'away': 'M. dos Santos Gonçalves'}\n",
      "{'home': 'Athletico-PR', 'away': 'Santos'} {'home': '1', 'away': '0'} {'home': 'E. de Barros', 'away': 'J. Sampaoli Moya'}\n"
     ]
    },
    {
     "data": {
      "text/plain": [
       "38"
      ]
     },
     "execution_count": 6,
     "metadata": {},
     "output_type": "execute_result"
    }
   ],
   "source": [
    "# jogos Santos\n",
    "count = 1\n",
    "for i in range(1,38):\n",
    "    for j in range(10):\n",
    "        if dados[i][j]['clubs']['home'] == 'Santos' or dados[i][j]['clubs']['away'] == 'Santos':\n",
    "            # print(count)\n",
    "            print(dados[i][j]['clubs'], dados[i][j]['goals'], dados[i][j]['coach'])\n",
    "            count += 1\n",
    "            \n",
    "count"
   ]
  },
  {
   "cell_type": "markdown",
   "id": "c6736d95",
   "metadata": {},
   "source": [
    "## Definimos as funções necessárias para determinar a classificação das equipes no final da temporada"
   ]
  },
  {
   "cell_type": "code",
   "execution_count": 7,
   "id": "f0b74c34",
   "metadata": {},
   "outputs": [],
   "source": [
    "def jogos_ganhos_e_empatados(time):\n",
    "\n",
    "    jogos_ganhos_local = 0\n",
    "    jogos_ganhos_visitante = 0\n",
    "    jogos_empatados_visitante = 0\n",
    "    jogos_empatados_local = 0\n",
    "\n",
    "    for i in range(1,39):\n",
    "        for j in range(10):\n",
    "            if dados[i][j]['clubs']['home'] == time:\n",
    "                if int(dados[i][j]['goals']['home'])>int(dados[i][j]['goals']['away']):\n",
    "                    jogos_ganhos_local += 1\n",
    "                if int(dados[i][j]['goals']['home'])==int(dados[i][j]['goals']['away']):\n",
    "                    jogos_empatados_local +=1\n",
    "            \n",
    "            if dados[i][j]['clubs']['away'] == time:\n",
    "                if int(dados[i][j]['goals']['home'])<int(dados[i][j]['goals']['away']):\n",
    "                    jogos_ganhos_visitante +=1\n",
    "                if int(dados[i][j]['goals']['home'])==int(dados[i][j]['goals']['away']):\n",
    "                    jogos_empatados_visitante +=1\n",
    "    \n",
    "    jogos_ganhos = jogos_ganhos_local + jogos_ganhos_visitante\n",
    "    jogos_empatados = jogos_empatados_local + jogos_empatados_visitante\n",
    "                    \n",
    "    return ((\"G:\", jogos_ganhos), (\"E:\", jogos_empatados))        \n"
   ]
  },
  {
   "cell_type": "code",
   "execution_count": 8,
   "id": "6ead1d8e",
   "metadata": {},
   "outputs": [],
   "source": [
    "def jogos_ganhos(time):\n",
    "\n",
    "    jogos_ganhos_local = 0\n",
    "    jogos_ganhos_visitante = 0\n",
    "    \n",
    "\n",
    "    for i in range(1,39):\n",
    "        for j in range(10):\n",
    "            if dados[i][j]['clubs']['home'] == time:\n",
    "                if int(dados[i][j]['goals']['home'])>int(dados[i][j]['goals']['away']):\n",
    "                    jogos_ganhos_local += 1\n",
    "                            \n",
    "            if dados[i][j]['clubs']['away'] == time:\n",
    "                if int(dados[i][j]['goals']['home'])<int(dados[i][j]['goals']['away']):\n",
    "                    jogos_ganhos_visitante +=1\n",
    "                    \n",
    "    jogos_ganhos = jogos_ganhos_local + jogos_ganhos_visitante\n",
    "                        \n",
    "    return jogos_ganhos "
   ]
  },
  {
   "cell_type": "code",
   "execution_count": 9,
   "id": "bc24b29f",
   "metadata": {},
   "outputs": [],
   "source": [
    "def diff_gol(time):\n",
    "    time_gol_favor = 0\n",
    "    time_gol_contra = 0\n",
    "\n",
    "    for i in range(1,39):\n",
    "        for j in range(10):\n",
    "            if dados[i][j]['clubs']['home'] == time:\n",
    "                time_gol_favor += int(dados[i][j]['goals']['home'])\n",
    "                time_gol_contra += int(dados[i][j]['goals']['away'])\n",
    "                \n",
    "            if dados[i][j]['clubs']['away'] == time:\n",
    "                time_gol_favor += int(dados[i][j]['goals']['away'])\n",
    "                time_gol_contra += int(dados[i][j]['goals']['home'])\n",
    "\n",
    "    time_diff_gol = time_gol_favor - time_gol_contra \n",
    "    \n",
    "    return time_diff_gol"
   ]
  },
  {
   "cell_type": "code",
   "execution_count": 10,
   "id": "8d9714bd",
   "metadata": {},
   "outputs": [],
   "source": [
    "# funcao calculo de pontos no final do campeonato\n",
    "\n",
    "def pontos_finais(time):\n",
    "    \n",
    "    pontos_local = 0\n",
    "    pontos_visitante = 0\n",
    "\n",
    "    for i in range(1,39):\n",
    "        for j in range(10):\n",
    "            if dados[i][j]['clubs']['home'] == time:\n",
    "                if int(dados[i][j]['goals']['home'])>int(dados[i][j]['goals']['away']):\n",
    "                    pontos_local +=3\n",
    "                if int(dados[i][j]['goals']['home'])==int(dados[i][j]['goals']['away']):\n",
    "                    pontos_local +=1\n",
    "            \n",
    "            if dados[i][j]['clubs']['away'] == time:\n",
    "                if int(dados[i][j]['goals']['home'])<int(dados[i][j]['goals']['away']):\n",
    "                    pontos_visitante +=3\n",
    "                if int(dados[i][j]['goals']['home'])==int(dados[i][j]['goals']['away']):\n",
    "                    pontos_visitante +=1\n",
    "\n",
    "    pontos = pontos_local + pontos_visitante                \n",
    "    #print(f\"pontos_local: {pontos_local}\")\n",
    "    #print(f\"pontos_visitante: {pontos_visitante}\")\n",
    "    return pontos"
   ]
  },
  {
   "cell_type": "markdown",
   "id": "4fc8740a",
   "metadata": {},
   "source": [
    "## Definimos as funções necessárias para responder à questão dos técnicos durante o campeonato"
   ]
  },
  {
   "cell_type": "code",
   "execution_count": 11,
   "id": "3316d70c",
   "metadata": {},
   "outputs": [],
   "source": [
    "# funcao para achar os tecnicos por time\n",
    "# recebe um time e retorna o Set dos técnicos do time durante a temporada\n",
    "\n",
    "def tecnicos(time):\n",
    "    Tecnicos = set()\n",
    "    for i in range(1,39):\n",
    "        for j in range(10):\n",
    "            if dados[i][j]['clubs']['home'] == time:\n",
    "                Tecnicos.add(dados[i][j]['coach']['home'])\n",
    "            if dados[i][j]['clubs']['away'] == time:\n",
    "                Tecnicos.add(dados[i][j]['coach']['away'])\n",
    " \n",
    "    return Tecnicos\n",
    "    "
   ]
  },
  {
   "cell_type": "code",
   "execution_count": 12,
   "id": "bc4b49db",
   "metadata": {},
   "outputs": [],
   "source": [
    "# funcao para achar a quantidade de tecnicos do time durante a temporada\n",
    "\n",
    "def n_tecnicos(time):\n",
    "    return len(tecnicos(time))"
   ]
  },
  {
   "cell_type": "code",
   "execution_count": 13,
   "id": "3cf387ef",
   "metadata": {},
   "outputs": [],
   "source": [
    "# quantidades de jogos do tecnico no time\n",
    "# recebe um time e um técnico, e retorna a quanteidade de jogos do técnico com o time\n",
    "\n",
    "def jogos_tecnico(time, tecnico):\n",
    "    n_jogos=0\n",
    "    for i in range(1,39):\n",
    "        for j in range(10):\n",
    "            if dados[i][j]['clubs']['home'] == time and dados[i][j]['coach']['home'] == tecnico:\n",
    "                n_jogos +=1\n",
    "            if dados[i][j]['clubs']['away'] == time and dados[i][j]['coach']['away'] == tecnico:\n",
    "                n_jogos +=1\n",
    "    return n_jogos"
   ]
  },
  {
   "cell_type": "code",
   "execution_count": 14,
   "id": "1c34620e",
   "metadata": {},
   "outputs": [],
   "source": [
    "# diccionario por time tecnico:jogos\n",
    "\n",
    "# recebe um time, e retorna un dicionario com chave o nome do técnico y valor o quantidade de jogos do técnico no time\n",
    "\n",
    "def tecnicos_e_jogos(time):\n",
    "    relacao_tecnico_jogos = {}\n",
    "    tecs = tecnicos(time)\n",
    "    for tec in tecs:\n",
    "        relacao_tecnico_jogos[tec] = jogos_tecnico(time, tec)\n",
    "    \n",
    "    return relacao_tecnico_jogos\n",
    "        \n",
    "    "
   ]
  },
  {
   "cell_type": "code",
   "execution_count": 15,
   "id": "aa398ff3",
   "metadata": {},
   "outputs": [],
   "source": [
    "# recebe um time e retorna uma lista, onde cada elemento é uma tupla contendo o tecnico e o número de jogos do técnico, \n",
    "# note que dado o caso de um time ter dois o mais técnicos com mesmo número (máximo) de jogos no time, iremos ter uma lista com mais de um elemento\n",
    "\n",
    "def tecnico_mais_jogos(time):\n",
    "    tecnicos_time = tecnicos_e_jogos(time)\n",
    "    tec_mais_jogos = []\n",
    "    for chave in tecnicos_time.keys():\n",
    "        if tecnicos_time[chave] == max(tecnicos_time.values()):\n",
    "             tec_mais_jogos.append((chave,tecnicos_time[chave]))\n",
    "    \n",
    "    return tec_mais_jogos"
   ]
  },
  {
   "cell_type": "markdown",
   "id": "52762371",
   "metadata": {},
   "source": [
    "## Definimos alguns conjuntos de dados que serão úteis para a análise"
   ]
  },
  {
   "cell_type": "markdown",
   "id": "f1da41f8",
   "metadata": {},
   "source": [
    "Resgatamos as equipes participantes do campeonato"
   ]
  },
  {
   "cell_type": "code",
   "execution_count": 16,
   "id": "23079599",
   "metadata": {
    "scrolled": true
   },
   "outputs": [
    {
     "data": {
      "text/plain": [
       "(['Chapecoense',\n",
       "  'São Paulo',\n",
       "  'Atlético-MG',\n",
       "  'Goiás',\n",
       "  'Vasco da Gama',\n",
       "  'Fluminense',\n",
       "  'Corinthians',\n",
       "  'Bahia',\n",
       "  'Internacional',\n",
       "  'CSA',\n",
       "  'Ceará SC',\n",
       "  'Athletico-PR',\n",
       "  'Botafogo',\n",
       "  'Avaí',\n",
       "  'Grêmio',\n",
       "  'Palmeiras',\n",
       "  'Santos',\n",
       "  'Cruzeiro',\n",
       "  'Fortaleza',\n",
       "  'Flamengo'],\n",
       " 20)"
      ]
     },
     "execution_count": 16,
     "metadata": {},
     "output_type": "execute_result"
    }
   ],
   "source": [
    "# Set o times\n",
    "Times = set()\n",
    "count = 1\n",
    "for i in range(1,38):\n",
    "    for j in range(9):\n",
    "        Times.add(dados[i][j]['clubs']['home'])\n",
    "\n",
    "\n",
    "times = list(Times)\n",
    "\n",
    "times, len(times)\n"
   ]
  },
  {
   "cell_type": "markdown",
   "id": "2def7cf6",
   "metadata": {},
   "source": [
    "Passamos a ordenar a lista das equipes, com base na quantidade de pontos ao final do campeonato. Note-se que, caso tenhamos equipas com o mesmo número de pontos, esta lista ainda não define a ordem da classificação final"
   ]
  },
  {
   "cell_type": "code",
   "execution_count": 17,
   "id": "d03051d1",
   "metadata": {},
   "outputs": [],
   "source": [
    "times_ordenados = times.copy()\n",
    "\n",
    "times_ordenados.sort(key= pontos_finais, reverse=True)\n",
    "\n"
   ]
  },
  {
   "cell_type": "code",
   "execution_count": 18,
   "id": "9421c319",
   "metadata": {},
   "outputs": [
    {
     "data": {
      "text/plain": [
       "[('Flamengo', 90),\n",
       " ('Palmeiras', 74),\n",
       " ('Santos', 74),\n",
       " ('Grêmio', 65),\n",
       " ('Athletico-PR', 64),\n",
       " ('São Paulo', 63),\n",
       " ('Internacional', 57),\n",
       " ('Corinthians', 56),\n",
       " ('Fortaleza', 53),\n",
       " ('Goiás', 52),\n",
       " ('Vasco da Gama', 49),\n",
       " ('Bahia', 49),\n",
       " ('Atlético-MG', 48),\n",
       " ('Fluminense', 46),\n",
       " ('Botafogo', 43),\n",
       " ('Ceará SC', 39),\n",
       " ('Cruzeiro', 36),\n",
       " ('Chapecoense', 32),\n",
       " ('CSA', 32),\n",
       " ('Avaí', 20)]"
      ]
     },
     "execution_count": 18,
     "metadata": {},
     "output_type": "execute_result"
    }
   ],
   "source": [
    "lista_times_pontos_ordenados = list()\n",
    "\n",
    "for time in times_ordenados:\n",
    "    lista_times_pontos_ordenados.append((time, pontos_finais(time)))\n",
    "\n",
    "lista_times_pontos_ordenados"
   ]
  },
  {
   "cell_type": "markdown",
   "id": "04717d5a",
   "metadata": {},
   "source": [
    "### Podem existir times com mesma quantidade de pontos. Temos que tratar a posibilidade"
   ]
  },
  {
   "cell_type": "code",
   "execution_count": 19,
   "id": "ea881733",
   "metadata": {},
   "outputs": [],
   "source": [
    "lista_pontos = [pontos_finais(time) for time in times_ordenados]\n"
   ]
  },
  {
   "cell_type": "markdown",
   "id": "cd882e3b",
   "metadata": {},
   "source": [
    "procuramos pelos times com mesma quantidade de pontos"
   ]
  },
  {
   "cell_type": "code",
   "execution_count": 20,
   "id": "ff50190d",
   "metadata": {},
   "outputs": [
    {
     "data": {
      "text/plain": [
       "{74: ['Palmeiras', 'Santos'],\n",
       " 49: ['Vasco da Gama', 'Bahia'],\n",
       " 32: ['Chapecoense', 'CSA']}"
      ]
     },
     "execution_count": 20,
     "metadata": {},
     "output_type": "execute_result"
    }
   ],
   "source": [
    "times_mesmos_pontos = {}\n",
    "\n",
    "for ponto in lista_pontos:\n",
    "    if lista_pontos.count(ponto) > 1:\n",
    "        times_mesmos_pontos[ponto] = [time for time in times if pontos_finais(time)==ponto]\n",
    "\n",
    "times_mesmos_pontos"
   ]
  },
  {
   "cell_type": "markdown",
   "id": "a250ece6",
   "metadata": {},
   "source": [
    "Note que temos 3 duplas repeticoes na lista, i.e., tres casos onde diferentes times tiveram o mesma quantidade de pontos, (74, 49, 32). Vamos analizar cada caso, para definir a clasifacao final "
   ]
  },
  {
   "cell_type": "markdown",
   "id": "48461988",
   "metadata": {},
   "source": [
    "### caso 74 pontos"
   ]
  },
  {
   "cell_type": "code",
   "execution_count": 21,
   "id": "693c684f",
   "metadata": {},
   "outputs": [
    {
     "data": {
      "text/plain": [
       "['Palmeiras', 'Santos']"
      ]
     },
     "execution_count": 21,
     "metadata": {},
     "output_type": "execute_result"
    }
   ],
   "source": [
    "# times com 74 pontos\n",
    "\n",
    "times_74_pontos = []\n",
    "for time in Times:\n",
    "    if pontos_finais(time) == 74:\n",
    "        times_74_pontos.append(time)\n",
    "\n",
    "times_74_pontos"
   ]
  },
  {
   "cell_type": "code",
   "execution_count": 22,
   "id": "8e2dc35d",
   "metadata": {},
   "outputs": [
    {
     "data": {
      "text/plain": [
       "21"
      ]
     },
     "execution_count": 22,
     "metadata": {},
     "output_type": "execute_result"
    }
   ],
   "source": [
    "jogos_ganhos('Palmeiras')"
   ]
  },
  {
   "cell_type": "code",
   "execution_count": 23,
   "id": "f609e145",
   "metadata": {},
   "outputs": [
    {
     "data": {
      "text/plain": [
       "22"
      ]
     },
     "execution_count": 23,
     "metadata": {},
     "output_type": "execute_result"
    }
   ],
   "source": [
    "jogos_ganhos('Santos')"
   ]
  },
  {
   "cell_type": "markdown",
   "id": "a9cfab6c",
   "metadata": {},
   "source": [
    "##### Santos > Palmeiras"
   ]
  },
  {
   "cell_type": "markdown",
   "id": "1d64fa39",
   "metadata": {},
   "source": [
    "### caso 49 pontos"
   ]
  },
  {
   "cell_type": "code",
   "execution_count": 24,
   "id": "b6fbbb54",
   "metadata": {},
   "outputs": [
    {
     "data": {
      "text/plain": [
       "['Vasco da Gama', 'Bahia']"
      ]
     },
     "execution_count": 24,
     "metadata": {},
     "output_type": "execute_result"
    }
   ],
   "source": [
    "# times com 74 pontos\n",
    "\n",
    "times_49_pontos = []\n",
    "for time in Times:\n",
    "    if pontos_finais(time) == 49:\n",
    "        times_49_pontos.append(time)\n",
    "\n",
    "times_49_pontos"
   ]
  },
  {
   "cell_type": "code",
   "execution_count": 25,
   "id": "4ca83260",
   "metadata": {},
   "outputs": [
    {
     "data": {
      "text/plain": [
       "12"
      ]
     },
     "execution_count": 25,
     "metadata": {},
     "output_type": "execute_result"
    }
   ],
   "source": [
    "jogos_ganhos('Bahia')"
   ]
  },
  {
   "cell_type": "code",
   "execution_count": 26,
   "id": "a0fbdf66",
   "metadata": {},
   "outputs": [
    {
     "data": {
      "text/plain": [
       "12"
      ]
     },
     "execution_count": 26,
     "metadata": {},
     "output_type": "execute_result"
    }
   ],
   "source": [
    "jogos_ganhos('Vasco da Gama')"
   ]
  },
  {
   "cell_type": "markdown",
   "id": "9afcb185",
   "metadata": {},
   "source": [
    " Tanto bahia como vasco tiveram os mesma quantidade de jogos ganhos, empatados e perdidos. Temos que considerar o seguinte metodo de desempate: a dif de gol"
   ]
  },
  {
   "cell_type": "code",
   "execution_count": 27,
   "id": "3bdf110b",
   "metadata": {},
   "outputs": [
    {
     "data": {
      "text/plain": [
       "1"
      ]
     },
     "execution_count": 27,
     "metadata": {},
     "output_type": "execute_result"
    }
   ],
   "source": [
    "# diff gol bahia\n",
    "\n",
    "diff_gol('Bahia')"
   ]
  },
  {
   "cell_type": "code",
   "execution_count": 28,
   "id": "55716485",
   "metadata": {},
   "outputs": [
    {
     "data": {
      "text/plain": [
       "-6"
      ]
     },
     "execution_count": 28,
     "metadata": {},
     "output_type": "execute_result"
    }
   ],
   "source": [
    "# diff gol vasco\n",
    "\n",
    "diff_gol(\"Vasco da Gama\")\n"
   ]
  },
  {
   "cell_type": "markdown",
   "id": "be1c227d",
   "metadata": {},
   "source": [
    "##### Bahia > Vasco"
   ]
  },
  {
   "cell_type": "markdown",
   "id": "2fac167b",
   "metadata": {},
   "source": [
    "### caso 32 pontos"
   ]
  },
  {
   "cell_type": "code",
   "execution_count": 29,
   "id": "e30bcf87",
   "metadata": {},
   "outputs": [
    {
     "data": {
      "text/plain": [
       "['Chapecoense', 'CSA']"
      ]
     },
     "execution_count": 29,
     "metadata": {},
     "output_type": "execute_result"
    }
   ],
   "source": [
    "# times com 74 pontos\n",
    "\n",
    "times_32_pontos = []\n",
    "for time in Times:\n",
    "    if pontos_finais(time) == 32:\n",
    "        times_32_pontos.append(time)\n",
    "\n",
    "times_32_pontos"
   ]
  },
  {
   "cell_type": "code",
   "execution_count": 30,
   "id": "dda73641",
   "metadata": {},
   "outputs": [
    {
     "data": {
      "text/plain": [
       "7"
      ]
     },
     "execution_count": 30,
     "metadata": {},
     "output_type": "execute_result"
    }
   ],
   "source": [
    "jogos_ganhos('Chapecoense')"
   ]
  },
  {
   "cell_type": "code",
   "execution_count": 31,
   "id": "f6c7be0f",
   "metadata": {},
   "outputs": [
    {
     "data": {
      "text/plain": [
       "8"
      ]
     },
     "execution_count": 31,
     "metadata": {},
     "output_type": "execute_result"
    }
   ],
   "source": [
    "jogos_ganhos('CSA')"
   ]
  },
  {
   "cell_type": "markdown",
   "id": "b688a25e",
   "metadata": {},
   "source": [
    "##### csa > chapeco"
   ]
  },
  {
   "cell_type": "markdown",
   "id": "32446b02",
   "metadata": {},
   "source": [
    "Clasificacao final, considerando os criterios de desempate"
   ]
  },
  {
   "cell_type": "code",
   "execution_count": 32,
   "id": "abb80ccd",
   "metadata": {
    "scrolled": true
   },
   "outputs": [
    {
     "data": {
      "text/plain": [
       "['Flamengo',\n",
       " 'Palmeiras',\n",
       " 'Santos',\n",
       " 'Grêmio',\n",
       " 'Athletico-PR',\n",
       " 'São Paulo',\n",
       " 'Internacional',\n",
       " 'Corinthians',\n",
       " 'Fortaleza',\n",
       " 'Goiás',\n",
       " 'Vasco da Gama',\n",
       " 'Bahia',\n",
       " 'Atlético-MG',\n",
       " 'Fluminense',\n",
       " 'Botafogo',\n",
       " 'Ceará SC',\n",
       " 'Cruzeiro',\n",
       " 'Chapecoense',\n",
       " 'CSA',\n",
       " 'Avaí']"
      ]
     },
     "execution_count": 32,
     "metadata": {},
     "output_type": "execute_result"
    }
   ],
   "source": [
    "times_ordenados.copy()"
   ]
  },
  {
   "cell_type": "markdown",
   "id": "9fbfdf81",
   "metadata": {},
   "source": [
    "lembrando que Santos > Palmeiras, Bahia> Vasco,  CSA> Chapecoense, madificamos manualmente a lista para ter a ordem certa \n"
   ]
  },
  {
   "cell_type": "code",
   "execution_count": 33,
   "id": "c0cc9203",
   "metadata": {},
   "outputs": [
    {
     "name": "stdout",
     "output_type": "stream",
     "text": [
      "2\n",
      "1\n",
      "11\n",
      "10\n",
      "18\n",
      "17\n"
     ]
    }
   ],
   "source": [
    "\n",
    "clasificacao_final_ =  times_ordenados.copy()\n",
    "\n",
    "print(clasificacao_final_.index('Santos'))\n",
    "print(clasificacao_final_.index('Palmeiras'))\n",
    "\n",
    "print(clasificacao_final_.index('Bahia'))\n",
    "print(clasificacao_final_.index('Vasco da Gama'))\n",
    "\n",
    "print(clasificacao_final_.index('CSA'))\n",
    "print(clasificacao_final_.index('Chapecoense'))"
   ]
  },
  {
   "cell_type": "code",
   "execution_count": 34,
   "id": "eccef75e",
   "metadata": {},
   "outputs": [],
   "source": [
    "clasificacao_final_[1] = 'Santos'\n",
    "clasificacao_final_[2] = 'Palmeiras'\n",
    "\n",
    "clasificacao_final_[10] = 'Bahia'\n",
    "clasificacao_final_[11] = 'Vasco da Gama'\n",
    "\n",
    "clasificacao_final_[17] = 'CSA'\n",
    "clasificacao_final_[18] = 'Chapecoense'"
   ]
  },
  {
   "cell_type": "code",
   "execution_count": null,
   "id": "0f8a633d",
   "metadata": {},
   "outputs": [],
   "source": []
  },
  {
   "cell_type": "code",
   "execution_count": 35,
   "id": "46c81b30",
   "metadata": {},
   "outputs": [
    {
     "data": {
      "text/plain": [
       "['Flamengo',\n",
       " 'Santos',\n",
       " 'Palmeiras',\n",
       " 'Grêmio',\n",
       " 'Athletico-PR',\n",
       " 'São Paulo',\n",
       " 'Internacional',\n",
       " 'Corinthians',\n",
       " 'Fortaleza',\n",
       " 'Goiás',\n",
       " 'Bahia',\n",
       " 'Vasco da Gama',\n",
       " 'Atlético-MG',\n",
       " 'Fluminense',\n",
       " 'Botafogo',\n",
       " 'Ceará SC',\n",
       " 'Cruzeiro',\n",
       " 'CSA',\n",
       " 'Chapecoense',\n",
       " 'Avaí']"
      ]
     },
     "execution_count": 35,
     "metadata": {},
     "output_type": "execute_result"
    }
   ],
   "source": [
    "clasificacao_final_"
   ]
  },
  {
   "cell_type": "markdown",
   "id": "018ea9e7",
   "metadata": {},
   "source": [
    "#### Temos entao que a clasificacao final do campeonato foi"
   ]
  },
  {
   "cell_type": "code",
   "execution_count": 36,
   "id": "9c9df3d3",
   "metadata": {},
   "outputs": [
    {
     "name": "stdout",
     "output_type": "stream",
     "text": [
      "1 Flamengo 90\n",
      "2 Santos 74\n",
      "3 Palmeiras 74\n",
      "4 Grêmio 65\n",
      "5 Athletico-PR 64\n",
      "6 São Paulo 63\n",
      "7 Internacional 57\n",
      "8 Corinthians 56\n",
      "9 Fortaleza 53\n",
      "10 Goiás 52\n",
      "11 Bahia 49\n",
      "12 Vasco da Gama 49\n",
      "13 Atlético-MG 48\n",
      "14 Fluminense 46\n",
      "15 Botafogo 43\n",
      "16 Ceará SC 39\n",
      "17 Cruzeiro 36\n",
      "18 CSA 32\n",
      "19 Chapecoense 32\n",
      "20 Avaí 20\n"
     ]
    }
   ],
   "source": [
    "for time in clasificacao_final_:\n",
    "    print(clasificacao_final_.index(time) + 1, time, pontos_finais(time))"
   ]
  },
  {
   "cell_type": "markdown",
   "id": "122a943b",
   "metadata": {},
   "source": [
    "## Consideramos agora os diferentes tecnicos de um time na temporada"
   ]
  },
  {
   "cell_type": "code",
   "execution_count": 37,
   "id": "1088ce2a",
   "metadata": {},
   "outputs": [],
   "source": [
    "times_f = clasificacao_final_"
   ]
  },
  {
   "cell_type": "markdown",
   "id": "86ca5f03",
   "metadata": {},
   "source": [
    "Número de técnicos diferentes por equipe"
   ]
  },
  {
   "cell_type": "code",
   "execution_count": 38,
   "id": "65260809",
   "metadata": {
    "scrolled": true
   },
   "outputs": [
    {
     "name": "stdout",
     "output_type": "stream",
     "text": [
      "Flamengo: 4\n",
      "Santos: 1\n",
      "Palmeiras: 3\n",
      "Grêmio: 1\n",
      "Athletico-PR: 2\n",
      "São Paulo: 3\n",
      "Internacional: 3\n",
      "Corinthians: 2\n",
      "Fortaleza: 4\n",
      "Goiás: 3\n",
      "Bahia: 1\n",
      "Vasco da Gama: 2\n",
      "Atlético-MG: 2\n",
      "Fluminense: 3\n",
      "Botafogo: 3\n",
      "Ceará SC: 3\n",
      "Cruzeiro: 5\n",
      "CSA: 3\n",
      "Chapecoense: 3\n",
      "Avaí: 3\n"
     ]
    }
   ],
   "source": [
    "for time in times_f:\n",
    "    print(f\"{time}:\", n_tecnicos(time))"
   ]
  },
  {
   "cell_type": "markdown",
   "id": "c723d4c4",
   "metadata": {},
   "source": [
    "Armazenamos os dados dos diferentes técnicos num dicionário com a seguinte estrutura \n",
    "{time: {tecnico1:jogos_tecnico1}, {tecnico2:jogos_tecnico2}, ... }"
   ]
  },
  {
   "cell_type": "code",
   "execution_count": 39,
   "id": "24a21f64",
   "metadata": {},
   "outputs": [],
   "source": [
    "# dicionario chave= time, valor= dicionario{tecnico:jogos}\n",
    "\n",
    "times_tecnicos_jogos = {}\n",
    "\n",
    "for time in times_f:\n",
    "    times_tecnicos_jogos[time] = tecnicos_e_jogos(time)\n",
    "    "
   ]
  },
  {
   "cell_type": "code",
   "execution_count": 40,
   "id": "6039eb51",
   "metadata": {
    "scrolled": true
   },
   "outputs": [
    {
     "data": {
      "text/plain": [
       "{'Flamengo': {'J. Pinheiro de Jesus': 28,\n",
       "  'A. da Silva Braga': 6,\n",
       "  'J. Pires de Deus': 1,\n",
       "  'M. Salles': 3},\n",
       " 'Santos': {'J. Sampaoli Moya': 38},\n",
       " 'Palmeiras': {'A. Lopes dos Santos': 2,\n",
       "  'L. Venker de Menezes': 20,\n",
       "  'L. Scolari': 16},\n",
       " 'Grêmio': {'Renato Gaúcho': 38},\n",
       " 'Athletico-PR': {'T. Retzalff Nunes': 30, 'E. de Barros': 8},\n",
       " 'São Paulo': {'F. Diniz Silva': 16, 'A. Stival': 21, 'M. Longo de Araújo': 1},\n",
       " 'Internacional': {'J. Mannarino': 11, 'R. Colbachini': 3, 'O. Hellmann': 24},\n",
       " 'Corinthians': {'F. Carille': 30, 'Coelho': 8},\n",
       " 'Fortaleza': {'J. Mannarino': 7,\n",
       "  'M. Montenegro': 1,\n",
       "  'C. A. P. F. Hembert': 1,\n",
       "  'R. Ceni': 29},\n",
       " 'Goiás': {'R. L. Martins Gomes': 1,\n",
       "  'C. dos Santos Oliveira': 12,\n",
       "  'N. da Silveira Júnior': 25},\n",
       " 'Bahia': {'R. Machado Marques': 38},\n",
       " 'Vasco da Gama': {'V. Luxemburgo da Silva': 34, 'M. Gomes Valadares': 4},\n",
       " 'Atlético-MG': {'V. Carmo Mancini': 13, 'R. Marques Santana': 25},\n",
       " 'Fluminense': {'F. Diniz Silva': 15,\n",
       "  'O. de Oliveira Filho': 6,\n",
       "  'M. de Oliveira': 17},\n",
       " 'Botafogo': {'A. Valentim do Carmo Neto': 13,\n",
       "  'E. de Souza Barroca': 23,\n",
       "  'B. Lazaroni': 2},\n",
       " 'Ceará SC': {'A. Fucks': 3, 'E. Alves Moreira': 22, 'A. Batista': 13},\n",
       " 'Cruzeiro': {'L. Venker de Menezes': 13,\n",
       "  'A. da Silva Braga': 14,\n",
       "  'A. Batista': 3,\n",
       "  'R. Alves Resende': 1,\n",
       "  'R. Ceni': 7},\n",
       " 'CSA': {'A. Fucks': 26, 'M. Ribeiro Cabo': 9, 'G. Santos Vasconcelo': 3},\n",
       " 'Chapecoense': {'N. da Silveira Júnior': 11,\n",
       "  'M. dos Santos Gonçalves': 19,\n",
       "  'E. Hartkopp': 8},\n",
       " 'Avaí': {'E. Spinassé Camillato': 14,\n",
       "  'E. Machado Souto': 9,\n",
       "  'A. Valentim do Carmo Neto': 15}}"
      ]
     },
     "execution_count": 40,
     "metadata": {},
     "output_type": "execute_result"
    }
   ],
   "source": [
    "times_tecnicos_jogos"
   ]
  },
  {
   "cell_type": "markdown",
   "id": "48ae0bc8",
   "metadata": {},
   "source": [
    "### Reduzimos as informações e consideramos apenas os técnicos com maior número de jogos por time"
   ]
  },
  {
   "cell_type": "code",
   "execution_count": 41,
   "id": "174ad1a7",
   "metadata": {},
   "outputs": [],
   "source": [
    "times_pontos_tecnicos = {}\n",
    "\n",
    "for time in times_f:\n",
    "    times_pontos_tecnicos[time] = {\"pontos\":pontos_finais(time), \"tecnicos\": times_tecnicos_jogos[time] }\n",
    "    "
   ]
  },
  {
   "cell_type": "code",
   "execution_count": 42,
   "id": "9d1ac34b",
   "metadata": {
    "scrolled": true
   },
   "outputs": [
    {
     "data": {
      "text/plain": [
       "{'Flamengo': [('J. Pinheiro de Jesus', 28)],\n",
       " 'Santos': [('J. Sampaoli Moya', 38)],\n",
       " 'Palmeiras': [('L. Venker de Menezes', 20)],\n",
       " 'Grêmio': [('Renato Gaúcho', 38)],\n",
       " 'Athletico-PR': [('T. Retzalff Nunes', 30)],\n",
       " 'São Paulo': [('A. Stival', 21)],\n",
       " 'Internacional': [('O. Hellmann', 24)],\n",
       " 'Corinthians': [('F. Carille', 30)],\n",
       " 'Fortaleza': [('R. Ceni', 29)],\n",
       " 'Goiás': [('N. da Silveira Júnior', 25)],\n",
       " 'Bahia': [('R. Machado Marques', 38)],\n",
       " 'Vasco da Gama': [('V. Luxemburgo da Silva', 34)],\n",
       " 'Atlético-MG': [('R. Marques Santana', 25)],\n",
       " 'Fluminense': [('M. de Oliveira', 17)],\n",
       " 'Botafogo': [('E. de Souza Barroca', 23)],\n",
       " 'Ceará SC': [('E. Alves Moreira', 22)],\n",
       " 'Cruzeiro': [('A. da Silva Braga', 14)],\n",
       " 'CSA': [('A. Fucks', 26)],\n",
       " 'Chapecoense': [('M. dos Santos Gonçalves', 19)],\n",
       " 'Avaí': [('A. Valentim do Carmo Neto', 15)]}"
      ]
     },
     "execution_count": 42,
     "metadata": {},
     "output_type": "execute_result"
    }
   ],
   "source": [
    "times_pontos_tecnicos_mais_jogos = {}\n",
    "\n",
    "for time in times_f:\n",
    "    times_pontos_tecnicos_mais_jogos[time] =  tecnico_mais_jogos(time)\n",
    "\n",
    "times_pontos_tecnicos_mais_jogos"
   ]
  },
  {
   "cell_type": "markdown",
   "id": "9195a21d",
   "metadata": {},
   "source": [
    "# Visualização dos dados obtidos, a fim de responder ao problema a partir de uma análise gráfica"
   ]
  },
  {
   "cell_type": "markdown",
   "id": "1a773f1f",
   "metadata": {},
   "source": [
    "#### Criamos algumas listas para fins de gráficos"
   ]
  },
  {
   "cell_type": "markdown",
   "id": "3d7cc13e",
   "metadata": {},
   "source": [
    "Lista do numero de jogos do tecnico com mais jogos por time em ordem da clasificacao final do time, do primeiro ao ultimo"
   ]
  },
  {
   "cell_type": "code",
   "execution_count": 43,
   "id": "3f1e81fa",
   "metadata": {},
   "outputs": [],
   "source": [
    "y = []\n",
    "\n",
    "for time in times_f:\n",
    "    y.append(tecnico_mais_jogos(time)[0][1])\n"
   ]
  },
  {
   "cell_type": "markdown",
   "id": "6c9715a8",
   "metadata": {},
   "source": [
    "Lista do numero de jogos do tecnico com mais jogos por time em ordem da clasificacao final do time, do primeiro ao ultimo"
   ]
  },
  {
   "cell_type": "code",
   "execution_count": 44,
   "id": "203e4d90",
   "metadata": {},
   "outputs": [],
   "source": [
    "y_1 = []\n",
    "\n",
    "for time in times_f:\n",
    "    y_1.append(n_tecnicos(time))"
   ]
  },
  {
   "cell_type": "markdown",
   "id": "e8400545",
   "metadata": {},
   "source": [
    "Lista de posições"
   ]
  },
  {
   "cell_type": "code",
   "execution_count": 45,
   "id": "5619174a",
   "metadata": {},
   "outputs": [],
   "source": [
    "x = list(range(1,21))\n"
   ]
  },
  {
   "cell_type": "markdown",
   "id": "a15b9141",
   "metadata": {},
   "source": [
    "### Relação da Posição e do número de jogos do Técnico com mais rodadas durante o campeonato"
   ]
  },
  {
   "cell_type": "code",
   "execution_count": 52,
   "id": "9ffd8528",
   "metadata": {},
   "outputs": [
    {
     "data": {
      "image/png": "[encoded data removed]",
      "text/plain": [
       "<Figure size 800x600 with 1 Axes>"
      ]
     },
     "metadata": {},
     "output_type": "display_data"
    }
   ],
   "source": [
    "import matplotlib.pyplot as plt\n",
    "\n",
    "plt.figure(figsize=(8,6))\n",
    "plt.title('Campeonato Brasileiro 2019')\n",
    "\n",
    "plt.scatter(x,y)\n",
    "plt.xlabel('Posição')\n",
    "plt.xticks(range(1,21))\n",
    "plt.ylabel('Técnico mais longevo (rodadas)')\n",
    "plt.xscale('linear')"
   ]
  },
  {
   "cell_type": "markdown",
   "id": "206bf993",
   "metadata": {},
   "source": [
    "### Relação da Posição e do número de Técnicos durante o campeonato"
   ]
  },
  {
   "cell_type": "code",
   "execution_count": 47,
   "id": "f83651e3",
   "metadata": {},
   "outputs": [
    {
     "data": {
      "image/png": "[encoded data removed]",
      "text/plain": [
       "<Figure size 800x600 with 1 Axes>"
      ]
     },
     "metadata": {},
     "output_type": "display_data"
    }
   ],
   "source": [
    "import matplotlib.pyplot as plt\n",
    "\n",
    "plt.figure(figsize=(8,6))\n",
    "plt.title('Campeonato Brasileiro 2019')\n",
    "\n",
    "plt.scatter(x,y_1)\n",
    "plt.xlabel('Posição')\n",
    "plt.ylabel('Número de técnicos durante o campeonato')\n",
    "plt.xscale('linear')"
   ]
  }
 ],
 "metadata": {
  "kernelspec": {
   "display_name": "Python 3 (ipykernel)",
   "language": "python",
   "name": "python3"
  },
  "language_info": {
   "codemirror_mode": {
    "name": "ipython",
    "version": 3
   },
   "file_extension": ".py",
   "mimetype": "text/x-python",
   "name": "python",
   "nbconvert_exporter": "python",
   "pygments_lexer": "ipython3",
   "version": "3.9.13"
  }
 },
 "nbformat": 4,
 "nbformat_minor": 5
}
